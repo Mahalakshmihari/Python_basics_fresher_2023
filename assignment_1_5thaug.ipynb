{
  "nbformat": 4,
  "nbformat_minor": 0,
  "metadata": {
    "colab": {
      "provenance": [],
      "authorship_tag": "ABX9TyMrmMG2lgsZYWZxL35nSCVF"
    },
    "kernelspec": {
      "name": "python3",
      "display_name": "Python 3"
    },
    "language_info": {
      "name": "python"
    }
  },
  "cells": [
    {
      "cell_type": "code",
      "execution_count": 2,
      "metadata": {
        "colab": {
          "base_uri": "https://localhost:8080/"
        },
        "id": "pvfx95aaO3gW",
        "outputId": "4d96e216-3c84-45da-ff4c-8defc7f46f7c"
      },
      "outputs": [
        {
          "output_type": "stream",
          "name": "stdout",
          "text": [
            "enter the number:13\n",
            "square of a number is:169\n"
          ]
        }
      ],
      "source": [
        "\n",
        "# square of a number\n",
        "number=int(input(\"enter the number:\"))\n",
        "if number !=0:\n",
        "  square= number ** 2\n",
        "  print(f\"square of a number is:{square}\")\n",
        "else :\n",
        "  print(\"enter the number other than zero\")"
      ]
    },
    {
      "cell_type": "code",
      "source": [
        "#simple code to convert a celsius to faherenit\n",
        "\n",
        "celsius=int(input(\"enter the celsius:\"))\n",
        "fahrenheit= celsius * (9/5) + 32\n",
        "print(\"Fahrenheit=\",fahrenheit)"
      ],
      "metadata": {
        "colab": {
          "base_uri": "https://localhost:8080/"
        },
        "id": "3AQdID8sRZEc",
        "outputId": "645bf813-a6c6-457b-de1f-1dbcc3c1ed56"
      },
      "execution_count": 3,
      "outputs": [
        {
          "output_type": "stream",
          "name": "stdout",
          "text": [
            "enter the celsius:0\n",
            "Fahrenheit= 32.0\n"
          ]
        }
      ]
    },
    {
      "cell_type": "code",
      "source": [
        "# check wheather number is positive or negative\n",
        "num=int(input(\"Enter the number:\"))\n",
        "if num == 0:\n",
        "  print(\"the number is zero\")\n",
        "elif num > 0:\n",
        "  print(\"the number is positive\")\n",
        "else:\n",
        "  print(\"the number is negative\")\n"
      ],
      "metadata": {
        "colab": {
          "base_uri": "https://localhost:8080/"
        },
        "id": "HV854mb_TXFt",
        "outputId": "f687d3e9-d677-41dc-dff9-91134c2ff31c"
      },
      "execution_count": 4,
      "outputs": [
        {
          "output_type": "stream",
          "name": "stdout",
          "text": [
            "Enter the number:2\n",
            "the number is positive\n"
          ]
        }
      ]
    },
    {
      "cell_type": "code",
      "source": [
        "#largest among three numbers\n",
        "a=int(input(\"Enter the first number:\"))\n",
        "b=int(input(\"Enter the second number:\"))\n",
        "c=int(input(\"Enter the third number:\"))\n",
        "if a>b and a>c:\n",
        "  print(a,\"is the largest number\")\n",
        "elif b>a and b>c:\n",
        "  print(b,\" is the largest number\")\n",
        "else:\n",
        "  print(c,\" is the largest number\")\n"
      ],
      "metadata": {
        "colab": {
          "base_uri": "https://localhost:8080/"
        },
        "id": "6w_DluMBVccA",
        "outputId": "2fddb99d-74d2-40e2-d334-c7d3a11c1d69"
      },
      "execution_count": null,
      "outputs": [
        {
          "output_type": "stream",
          "name": "stdout",
          "text": [
            "Enter the first number:97\n",
            "Enter the second number:87\n",
            "Enter the third number:25\n",
            "97 is the largest number\n"
          ]
        }
      ]
    },
    {
      "cell_type": "code",
      "source": [
        "\n"
      ],
      "metadata": {
        "id": "-VsUqYplL08-"
      },
      "execution_count": null,
      "outputs": []
    },
    {
      "cell_type": "code",
      "source": [
        "\n"
      ],
      "metadata": {
        "id": "h8NKAzrGNaMB"
      },
      "execution_count": 4,
      "outputs": []
    },
    {
      "cell_type": "code",
      "source": [
        "\n",
        "\n"
      ],
      "metadata": {
        "id": "3_7G_2UDNceH"
      },
      "execution_count": 4,
      "outputs": []
    },
    {
      "cell_type": "code",
      "source": [],
      "metadata": {
        "id": "l69pdz0xNrqP"
      },
      "execution_count": 4,
      "outputs": []
    }
  ]
}